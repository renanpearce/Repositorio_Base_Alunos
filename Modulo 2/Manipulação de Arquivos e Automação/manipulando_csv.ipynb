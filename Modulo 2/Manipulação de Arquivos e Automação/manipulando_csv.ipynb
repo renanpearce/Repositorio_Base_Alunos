{
 "cells": [
  {
   "cell_type": "markdown",
   "id": "b2d212b8",
   "metadata": {},
   "source": [
    "# csv"
   ]
  },
  {
   "cell_type": "markdown",
   "id": "1233b5a6",
   "metadata": {},
   "source": [
    "CSV (comma-separated values) é um formato de arquivo de texto simples usado para amarzenar dados em formato de tabela,onde:\n",
    "- cada linha representa um registro\n",
    "- cada coluna é separada por vírgulas (ou outro delimitador)\n",
    "- pode ser aberto ppor Excel, googleSheets, pandas etc\n",
    "\n",
    "exemplo de conteudo de um alunos.csv:\n",
    "nome,idade,curso\n",
    "maria,30,python\n",
    "joao,25,data Science\n",
    "\n",
    "o modulo csv permite ler e escrever arquivos CSV facilmente. ele oferece duas formas principais:\n",
    "- usando listas como csv.reader() e csv.writer()\n",
    "- usando dicionarios com csv.dicreader() e csv.DicWriter() "
   ]
  },
  {
   "cell_type": "code",
   "execution_count": 15,
   "id": "3ddc603d",
   "metadata": {},
   "outputs": [],
   "source": [
    "import csv"
   ]
  },
  {
   "cell_type": "markdown",
   "id": "c408a820",
   "metadata": {},
   "source": [
    "# 1. criar um csv com csv.write() "
   ]
  },
  {
   "cell_type": "code",
   "execution_count": 26,
   "id": "1e7a7a25",
   "metadata": {},
   "outputs": [],
   "source": [
    "# 1.Criar um csv com o csv.write()\n",
    "dados = [\n",
    "    ['nome', 'idade', 'curso'],\n",
    "    ['maria', 30, 'python'],\n",
    "    ['joão',25,'data Science']\n",
    "]\n",
    "# abrir o arquivo em modo escrita ('w'). com encoding e newline='arithmeticError\n",
    "with open('alunos.csv', 'w', newline='', encoding='utf-8') as arquivo:\n",
    "    # criamos um objeto 'write' que é o escritor de um arquivo csv.\n",
    "    # ele é responsavel por transformar listas em linhas no arqivo csv\n",
    "    escritor = csv.writer(arquivo)\n",
    "    # escrever todas as linhas de lista 'dados' de uma vez, .writerows é um metodo do objeto escritor\n",
    "    escritor.writerows(dados)"
   ]
  },
  {
   "cell_type": "markdown",
   "id": "1bb333c6",
   "metadata": {},
   "source": [
    "observação sobre o uso de newline=''\n",
    "sempre use newline='' ao abrir o arquivo com open() para evitar quebras de linhas duplicadas, pricipalmente no windows"
   ]
  },
  {
   "cell_type": "markdown",
   "id": "7b12e231",
   "metadata": {},
   "source": [
    "# Ler um CSV co csv reader() "
   ]
  },
  {
   "cell_type": "code",
   "execution_count": null,
   "id": "e31d7917",
   "metadata": {},
   "outputs": [
    {
     "name": "stdout",
     "output_type": "stream",
     "text": [
      "['nome', 'idade', 'curso']\n",
      "['maria', '30', 'python']\n",
      "['joão', '25', 'data Science']\n"
     ]
    }
   ],
   "source": [
    "# abrimos o arquivo em modo leitura('r'), com endoding\n",
    "# o reader cria um objeto iteravel que transforma cada lubga do csv em uma lista.\n",
    "with open('alunos.csv', 'r', encoding='utf-8') as arquivo:\n",
    "    leitor= csv.reader(arquivo)\n",
    "    for linha in leitor:\n",
    "        \n",
    "        print(linha)"
   ]
  },
  {
   "cell_type": "markdown",
   "id": "0d52a3e2",
   "metadata": {},
   "source": [
    "# 3. lendo como dicionario com csv.DictReader()"
   ]
  },
  {
   "cell_type": "code",
   "execution_count": 18,
   "id": "866ab2b1",
   "metadata": {},
   "outputs": [
    {
     "name": "stdout",
     "output_type": "stream",
     "text": [
      "{'nome': 'maria', 'idade': '30', 'curso': 'python'}\n",
      "{'nome': 'joão', 'idade': '25', 'curso': 'data Science'}\n"
     ]
    }
   ],
   "source": [
    "with open('alunos.csv', 'r', encoding='utf-8') as arquivo:\n",
    "    leitor= csv.DictReader(arquivo)\n",
    "    for linha in leitor:\n",
    "        print(linha)"
   ]
  },
  {
   "cell_type": "markdown",
   "id": "2da1d6fb",
   "metadata": {},
   "source": [
    "# 4. adicionando uma linha ao csv"
   ]
  },
  {
   "cell_type": "code",
   "execution_count": 30,
   "id": "549055ab",
   "metadata": {},
   "outputs": [],
   "source": [
    "nova_linha = ['Fernando',27,'Banco de Dados']\n",
    "\n",
    "\n",
    "with open('alunos.csv','a',newline='',encoding='utf-8') as arquivo:\n",
    "    escritor = csv.writer(arquivo)\n",
    "    escritor.writerow(nova_linha)"
   ]
  },
  {
   "cell_type": "markdown",
   "id": "dbe7316b",
   "metadata": {},
   "source": [
    "# Importante!\n",
    "\n",
    "os modos de gravação('w') e ('a') são diferentes.\n",
    "-('w') write - cria o rquivo se não existir. Se o arquivo existir, ele substitue TODA  a informação presente nele pela nova \n",
    "-('a') APPEND não cria o arquivo. apenas adiciona uma nova infromação no fim, mantendo as infromações"
   ]
  }
 ],
 "metadata": {
  "kernelspec": {
   "display_name": ".venv",
   "language": "python",
   "name": "python3"
  },
  "language_info": {
   "codemirror_mode": {
    "name": "ipython",
    "version": 3
   },
   "file_extension": ".py",
   "mimetype": "text/x-python",
   "name": "python",
   "nbconvert_exporter": "python",
   "pygments_lexer": "ipython3",
   "version": "3.13.2"
  }
 },
 "nbformat": 4,
 "nbformat_minor": 5
}
