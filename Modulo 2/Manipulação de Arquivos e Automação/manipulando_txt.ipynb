{
 "cells": [
  {
   "cell_type": "markdown",
   "id": "a96a6b89",
   "metadata": {},
   "source": [
    "# lendo um txt\n",
    "\n",
    "em python, usamos a função open() para abrir arquivos"
   ]
  },
  {
   "cell_type": "code",
   "execution_count": 3,
   "id": "70e13917",
   "metadata": {},
   "outputs": [
    {
     "name": "stdout",
     "output_type": "stream",
     "text": [
      "<_io.TextIOWrapper name='hello_world.txt' mode='r' encoding='cp1252'>\n"
     ]
    }
   ],
   "source": [
    "arquivo = open('hello_world.txt', 'r')\n",
    "print(arquivo)"
   ]
  },
  {
   "cell_type": "markdown",
   "id": "3643084d",
   "metadata": {},
   "source": [
    "os modos são:\n",
    "- r - leitura(read)\n",
    "- w - escrita(write,sobrescreve)\n",
    "-a- escrita(append,adicione ao final)\n",
    "-x escrita(cria um novo arquivo, erro se ja exibir)\n",
    "-b- modo binário\n",
    "-t- modo texto(padrão)"
   ]
  },
  {
   "cell_type": "markdown",
   "id": "b84fa2cc",
   "metadata": {},
   "source": [
    "# lendo um arquivo linha por linha"
   ]
  },
  {
   "cell_type": "code",
   "execution_count": 4,
   "id": "5b37bf00",
   "metadata": {},
   "outputs": [
    {
     "name": "stdout",
     "output_type": "stream",
     "text": [
      "lendo o arquivo 'hello word'\n"
     ]
    }
   ],
   "source": [
    "with open('hello_world.txt','r') as f:\n",
    "    for linha in f:\n",
    "        print(linha)"
   ]
  },
  {
   "cell_type": "markdown",
   "id": "862a0175",
   "metadata": {},
   "source": [
    "o objeto _io.textIOwrapper é a classe que represente arquivos abertoas em modo texto em phython. Sempre que voce abre um arquivo usado open() com o modo como r,w,a (ou seja sem modo binária,b) o que voce recebe é uma instacia de io_TextWrapper"
   ]
  },
  {
   "cell_type": "code",
   "execution_count": 7,
   "id": "a6a96baf",
   "metadata": {},
   "outputs": [
    {
     "data": {
      "text/plain": [
       "_io.TextIOWrapper"
      ]
     },
     "execution_count": 7,
     "metadata": {},
     "output_type": "execute_result"
    }
   ],
   "source": [
    "type(arquivo)"
   ]
  }
 ],
 "metadata": {
  "kernelspec": {
   "display_name": ".venv",
   "language": "python",
   "name": "python3"
  },
  "language_info": {
   "codemirror_mode": {
    "name": "ipython",
    "version": 3
   },
   "file_extension": ".py",
   "mimetype": "text/x-python",
   "name": "python",
   "nbconvert_exporter": "python",
   "pygments_lexer": "ipython3",
   "version": "3.13.2"
  }
 },
 "nbformat": 4,
 "nbformat_minor": 5
}
