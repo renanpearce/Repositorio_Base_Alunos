{
 "cells": [
  {
   "cell_type": "markdown",
   "id": "979bf9e3",
   "metadata": {},
   "source": [
    "O json é um formato que armazena informações na forma de código-fonte JavaScript em arquivos com formato de texto simples, (Json é a abreviatura de Javascript Object notation, ou notação de objetos javascript). Não é necessário conhecer a linguagem de programação javaScript para usar arquivos JSON. porem é util conhecer esse formato. pois o JSON é usado em diversar aplicação web\n",
    "\n",
    "ele pod econter valores somente do seguintes tipos de dados:\n",
    "\n",
    "\n",
    "strings\n",
    "\n",
    "inteiros\n",
    "\n",
    "ponto flutuantes (float)\n",
    "\n",
    "booleanos\n",
    "\n",
    "listas\n",
    "\n",
    "dicionários\n",
    "\n",
    "noneType(vazio)"
   ]
  },
  {
   "cell_type": "code",
   "execution_count": 1,
   "id": "9cef2226",
   "metadata": {},
   "outputs": [],
   "source": [
    "import json\n"
   ]
  },
  {
   "cell_type": "markdown",
   "id": "d24d153c",
   "metadata": {},
   "source": [
    "# Criando um arquivo json do zero"
   ]
  },
  {
   "cell_type": "code",
   "execution_count": 2,
   "id": "6b8bb9db",
   "metadata": {},
   "outputs": [],
   "source": [
    "# dicionário python\n",
    "dados = {\n",
    "    'nome':'maria',\n",
    "    'idade':30,\n",
    "    'cursos':['python','machine learning']\n",
    "}\n",
    "\n",
    "with open('dados.json','w', encoding='utf-8') as arquivo:\n",
    "    json.dump(dados,arquivo,indent=4, ensure_ascii=False)\n",
    "\n",
    "# json.dump()= converte um objeto python em json e escreve diretamente em um arquivo\n",
    "# ensure_ascii= false preserva os acentos e caracteres especiais "
   ]
  },
  {
   "cell_type": "markdown",
   "id": "73fb58d2",
   "metadata": {},
   "source": [
    "# 2. lendo um arquivo JSON"
   ]
  },
  {
   "cell_type": "code",
   "execution_count": 3,
   "id": "c61b6f9f",
   "metadata": {},
   "outputs": [
    {
     "name": "stdout",
     "output_type": "stream",
     "text": [
      "{'nome': 'maria', 'idade': 30, 'cursos': ['python', 'machine learning']}\n",
      "<class 'dict'>\n"
     ]
    }
   ],
   "source": [
    "with open('dados.json', 'r',encoding='utf-8') as arquivo:\n",
    "    dados = json.load(arquivo)\n",
    "print(dados)\n",
    "print(type(dados))\n",
    "\n",
    "# json.load() converte o arquivo json para adicionar o dicionário\n"
   ]
  },
  {
   "cell_type": "markdown",
   "id": "eb82e372",
   "metadata": {},
   "source": [
    "# 3, convertendo um objeto em uma string JSON"
   ]
  },
  {
   "cell_type": "code",
   "execution_count": 4,
   "id": "0551855e",
   "metadata": {},
   "outputs": [
    {
     "name": "stdout",
     "output_type": "stream",
     "text": [
      "{\n",
      "  \"nome\": \"joao\",\n",
      "  \"idade\": 30,\n",
      "  \"ativo\": true\n",
      "}\n",
      "<class 'str'>\n"
     ]
    }
   ],
   "source": [
    "dados = {\n",
    "    'nome':'joao',\n",
    "    'idade':30,\n",
    "    'ativo': True\n",
    "}\n",
    "\n",
    "json_str = json.dumps(dados, indent=2, ensure_ascii=False)\n",
    "print(json_str)\n",
    "print(type(json_str))\n",
    "\n",
    "# json.dumps() = converter um objeto python em uma string no formato Json\n"
   ]
  }
 ],
 "metadata": {
  "kernelspec": {
   "display_name": "Python 3",
   "language": "python",
   "name": "python3"
  },
  "language_info": {
   "codemirror_mode": {
    "name": "ipython",
    "version": 3
   },
   "file_extension": ".py",
   "mimetype": "text/x-python",
   "name": "python",
   "nbconvert_exporter": "python",
   "pygments_lexer": "ipython3",
   "version": "3.13.2"
  }
 },
 "nbformat": 4,
 "nbformat_minor": 5
}
